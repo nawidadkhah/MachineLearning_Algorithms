{
  "nbformat": 4,
  "nbformat_minor": 0,
  "metadata": {
    "colab": {
      "provenance": [],
      "mount_file_id": "1kkBEXtJvbE9iaohDkhFH4P1XlX0jDSIK",
      "authorship_tag": "ABX9TyPRfyGXd+LiuLew6vxdKtfy",
      "include_colab_link": true
    },
    "kernelspec": {
      "name": "python3",
      "display_name": "Python 3"
    },
    "language_info": {
      "name": "python"
    }
  },
  "cells": [
    {
      "cell_type": "markdown",
      "metadata": {
        "id": "view-in-github",
        "colab_type": "text"
      },
      "source": [
        "<a href=\"https://colab.research.google.com/github/nawidadkhah/MachineLearning_Algorithms/blob/main/Supervised/Regression%20%20/Simple%20Linear%20Regression/Salary_by_experiences.ipynb\" target=\"_parent\"><img src=\"https://colab.research.google.com/assets/colab-badge.svg\" alt=\"Open In Colab\"/></a>"
      ]
    },
    {
      "cell_type": "code",
      "execution_count": null,
      "metadata": {
        "id": "eVg-U2owyvC4"
      },
      "outputs": [],
      "source": [
        "import numpy as np\n",
        "import matplotlib as plt\n",
        "import pandas as pd"
      ]
    },
    {
      "cell_type": "code",
      "source": [
        "# Set the drive for gettin cnf file\n",
        "from google.colab import drive\n",
        "drive.mount(\"/content/drive/\")"
      ],
      "metadata": {
        "id": "1m2r9_xSzgAt"
      },
      "execution_count": null,
      "outputs": []
    },
    {
      "cell_type": "code",
      "source": [
        "# Reading the data from the path\n",
        "path = '/content/drive/MyDrive/Salary_dataset.csv'\n",
        "data = pd.read_csv(path)"
      ],
      "metadata": {
        "id": "WCjk9oxtzGPi"
      },
      "execution_count": null,
      "outputs": []
    },
    {
      "cell_type": "code",
      "source": [
        "# Set the initial variables\n",
        "x_feature = data[\"YearsExperience\"]\n",
        "y_target = data[\"Salary\"]\n",
        "m = len(x_feature)"
      ],
      "metadata": {
        "id": "CA4yBfIV0P17"
      },
      "execution_count": null,
      "outputs": []
    },
    {
      "cell_type": "code",
      "source": [],
      "metadata": {
        "id": "CIiXPirX1m4D"
      },
      "execution_count": null,
      "outputs": []
    }
  ]
}